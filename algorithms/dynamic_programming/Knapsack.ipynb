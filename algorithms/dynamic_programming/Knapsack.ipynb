{
 "cells": [
  {
   "cell_type": "markdown",
   "metadata": {},
   "source": [
    "# 0/1 Knapsack"
   ]
  },
  {
   "cell_type": "markdown",
   "metadata": {},
   "source": [
    "## Introduction\n",
    "Given the weights and profits of ‘N’ items, we are asked to put these items in a knapsack which has a capacity ‘C’. The goal is to get the maximum profit from the items in the knapsack. Each item can only be selected once, as we don’t have multiple quantities of any item.\n",
    "\n",
    "Let’s take the example of Merry, who wants to carry some fruits in the knapsack to get maximum profit. Here are the weights and profits of the fruits:\n",
    "\n",
    "Items: { Apple, Orange, Banana, Melon }\n",
    "Weights: { 2, 3, 1, 4 }\n",
    "Profits: { 4, 5, 3, 7 }\n",
    "Knapsack capacity: 5\n",
    "\n",
    "Let’s try to put different combinations of fruits in the knapsack, such that their total weight is not more than 5:\n",
    "\n",
    "Apple + Orange (total weight 5) => 9 profit\n",
    "Apple + Banana (total weight 3) => 7 profit\n",
    "Orange + Banana (total weight 4) => 8 profit\n",
    "Banana + Melon (total weight 5) => 10 profit\n",
    "\n",
    "This shows that Banana + Melon is the best combination, as it gives us the maximum profit and the total weight does not exceed the capacity."
   ]
  },
  {
   "cell_type": "markdown",
   "metadata": {},
   "source": [
    "## Problem Statement\n",
    "\n",
    "Given two integer arrays to represent weights and profits of ‘N’ items, we need to find a subset of these items which will give us maximum profit such that their cumulative weight is not more than a given number ‘C’. Each item can only be selected once, which means either we put an item in the knapsack or we skip it."
   ]
  },
  {
   "cell_type": "markdown",
   "metadata": {},
   "source": [
    "## Brute force solution"
   ]
  },
  {
   "cell_type": "code",
   "execution_count": 1,
   "metadata": {},
   "outputs": [],
   "source": [
    "def solve_knapsack_helper(profits, weights, capacity, index):\n",
    "    # base case\n",
    "    if index >= len(weights) or capacity <= 0:\n",
    "        return 0\n",
    "    # return max of either including current item or skipping it.\n",
    "    profit1 = 0\n",
    "    if weights[index] <= capacity:\n",
    "        profit1 = profits[index] + solve_knapsack_helper(profits, weights, capacity - weights[index], index + 1)\n",
    "    profit2 = solve_knapsack_helper(profits, weights, capacity, index + 1)\n",
    "    return max(profit1, profit2)\n",
    "\n",
    "def solve_knapsack(profits, weights, capacity):\n",
    "    return solve_knapsack_helper(profits, weights, capacity, 0)"
   ]
  },
  {
   "cell_type": "code",
   "execution_count": 2,
   "metadata": {},
   "outputs": [
    {
     "name": "stdout",
     "output_type": "stream",
     "text": [
      "22\n",
      "17\n"
     ]
    }
   ],
   "source": [
    "profits = [1, 6, 10, 16]\n",
    "weights = [1, 2, 3, 5]\n",
    "capacity = 7\n",
    "print(solve_knapsack(profits, weights, capacity))\n",
    "capacity = 6\n",
    "print(solve_knapsack(profits, weights, capacity))\n"
   ]
  },
  {
   "cell_type": "markdown",
   "metadata": {},
   "source": [
    "## Top down solution"
   ]
  },
  {
   "cell_type": "code",
   "execution_count": 7,
   "metadata": {},
   "outputs": [],
   "source": [
    "def solve_knapsack_helper(dp, profits, weights, capacity, index):\n",
    "    # base case\n",
    "    if index >= len(weights) or capacity <= 0:\n",
    "        return 0\n",
    "    # check memoization cache\n",
    "    if (index, capacity) in dp:\n",
    "        return dp[(index, capacity)]\n",
    "    # return max of either including current item or skipping it.\n",
    "    profit1 = 0\n",
    "    if weights[index] <= capacity:\n",
    "        profit1 = profits[index] + solve_knapsack_helper(dp, profits, weights, capacity - weights[index], index + 1)\n",
    "    profit2 = solve_knapsack_helper(dp, profits, weights, capacity, index + 1)\n",
    "    dp[(index, capacity)] = max(profit1, profit2)\n",
    "    return dp[(index, capacity)]\n",
    "\n",
    "def solve_knapsack(profits, weights, capacity):\n",
    "    dp = {}\n",
    "    return solve_knapsack_helper(dp, profits, weights, capacity, 0)"
   ]
  },
  {
   "cell_type": "code",
   "execution_count": 8,
   "metadata": {},
   "outputs": [
    {
     "name": "stdout",
     "output_type": "stream",
     "text": [
      "22\n",
      "17\n"
     ]
    }
   ],
   "source": [
    "profits = [1, 6, 10, 16]\n",
    "weights = [1, 2, 3, 5]\n",
    "capacity = 7\n",
    "print(solve_knapsack(profits, weights, capacity))\n",
    "capacity = 6\n",
    "print(solve_knapsack(profits, weights, capacity))"
   ]
  },
  {
   "cell_type": "markdown",
   "metadata": {},
   "source": [
    "## Bottom up solution"
   ]
  },
  {
   "cell_type": "code",
   "execution_count": 14,
   "metadata": {},
   "outputs": [
    {
     "name": "stdout",
     "output_type": "stream",
     "text": [
      "[[0, 1, 1, 1, 1, 1, 1, 1], [0, 0, 0, 0, 0, 0, 0, 0], [0, 0, 0, 0, 0, 0, 0, 0], [0, 0, 0, 0, 0, 0, 0, 0]]\n"
     ]
    }
   ],
   "source": [
    "def solve_knapsack(profits, weights, capacity):\n",
    "    # create dp table\n",
    "    dp = []\n",
    "    for i in range(len(profits)):\n",
    "        dp.append([0] * (capacity + 1))\n",
    "    # if the capacity is zero, profit is zero.\n",
    "    for i in range(len(profits)):\n",
    "        dp[i][0] = 0\n",
    "    # if the \n",
    "    if weights[0] <= capacity:\n",
    "        for j in range(1, capacity + 1):\n",
    "            dp[0][j] = weights[0]\n",
    "            \n",
    "    print(dp)\n",
    "profits = [1, 6, 10, 16]\n",
    "weights = [1, 2, 3, 5]\n",
    "capacity = 7\n",
    "solve_knapsack(profits, weights, capacity)"
   ]
  },
  {
   "cell_type": "code",
   "execution_count": null,
   "metadata": {},
   "outputs": [],
   "source": []
  }
 ],
 "metadata": {
  "kernelspec": {
   "display_name": "Python 3",
   "language": "python",
   "name": "python3"
  },
  "language_info": {
   "codemirror_mode": {
    "name": "ipython",
    "version": 3
   },
   "file_extension": ".py",
   "mimetype": "text/x-python",
   "name": "python",
   "nbconvert_exporter": "python",
   "pygments_lexer": "ipython3",
   "version": "3.7.2"
  },
  "toc": {
   "base_numbering": 1,
   "nav_menu": {},
   "number_sections": true,
   "sideBar": true,
   "skip_h1_title": false,
   "title_cell": "Table of Contents",
   "title_sidebar": "Contents",
   "toc_cell": false,
   "toc_position": {},
   "toc_section_display": true,
   "toc_window_display": false
  }
 },
 "nbformat": 4,
 "nbformat_minor": 2
}
