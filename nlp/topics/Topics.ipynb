{
 "cells": [
  {
   "cell_type": "markdown",
   "metadata": {},
   "source": [
    "# Automatic Topic Labelling"
   ]
  },
  {
   "cell_type": "code",
   "execution_count": 85,
   "metadata": {},
   "outputs": [],
   "source": [
    "%matplotlib inline\n",
    "\n",
    "import os\n",
    "import matplotlib\n",
    "import numpy as np\n",
    "import matplotlib.pyplot as plt\n",
    "import pandas as pd\n"
   ]
  },
  {
   "cell_type": "code",
   "execution_count": 92,
   "metadata": {},
   "outputs": [],
   "source": [
    "def load_data(bbc_dir = './bbc/'):\n",
    "    ''' read bbc data and return a list of tuples.  The tuple contains two\n",
    "    strings. 1. the title of the news article and 2. category of news.'''\n",
    "    all_files = [ (file, folder) for folder in os.listdir(bbc_dir) \\\n",
    "             if os.path.isdir(os.path.join(bbc_dir, folder)) \\\n",
    "             for file in os.listdir(os.path.join(bbc_dir, folder))]\n",
    "    data = []\n",
    "    for (file, category) in all_files:\n",
    "        with open(os.path.join(bbc_dir + category, file), 'r') as f:\n",
    "            try:\n",
    "                data.append([f.readline()[:-1], category])\n",
    "            except UnicodeDecodeError:\n",
    "                pass\n",
    "    length = max_length([record[0] for record in data])\n",
    "    print(length)\n",
    "    \n",
    "    return data"
   ]
  },
  {
   "cell_type": "code",
   "execution_count": 106,
   "metadata": {},
   "outputs": [],
   "source": [
    "def create_features(data):\n",
    "    df = pd.DataFrame.from_records(data, columns=['headline', 'category'])\n",
    "    df['category'] = pd.Categorical(df['category'])\n",
    "    df['category_id'] = df.category.cat.codes\n",
    "    category_map = dict(enumerate(df['category'].cat.categories))\n",
    "    length = df.headline.map(len).max()\n",
    "    df.headline = df.headline.str.pad(length, side='right', fillchar=' ')\n",
    "    data_x = df[['headline']].values\n",
    "    data_y = df[['category_id']].values\n",
    "    return data_x, data_y, category_map"
   ]
  },
  {
   "cell_type": "code",
   "execution_count": 105,
   "metadata": {},
   "outputs": [
    {
     "name": "stdout",
     "output_type": "stream",
     "text": [
      "52\n",
      "52\n",
      "{0: 'business', 1: 'entertainment', 2: 'politics', 3: 'sport', 4: 'tech'}\n",
      "[['Musicians to tackle US red tape                     ']\n",
      " [\"U2's desire to be number one                        \"]\n",
      " ['Rocker Doherty in on-stage fight                    ']\n",
      " ...\n",
      " ['Nintendo adds media playing to DS                   ']\n",
      " ['Fast moving phone viruses appear                    ']\n",
      " [\"Hacker threat to Apple's iTunes                     \"]]\n",
      "[[1]\n",
      " [1]\n",
      " [1]\n",
      " ...\n",
      " [4]\n",
      " [4]\n",
      " [4]]\n"
     ]
    }
   ],
   "source": [
    "data = load_data()\n",
    "data_x, data_y, category_map = create_features(data)\n",
    "print(category_map)\n",
    "print(data_x)\n",
    "print(data_y)"
   ]
  },
  {
   "cell_type": "code",
   "execution_count": null,
   "metadata": {},
   "outputs": [],
   "source": []
  }
 ],
 "metadata": {
  "kernelspec": {
   "display_name": "Python 3",
   "language": "python",
   "name": "python3"
  },
  "language_info": {
   "codemirror_mode": {
    "name": "ipython",
    "version": 3
   },
   "file_extension": ".py",
   "mimetype": "text/x-python",
   "name": "python",
   "nbconvert_exporter": "python",
   "pygments_lexer": "ipython3",
   "version": "3.7.2"
  },
  "toc": {
   "base_numbering": 1,
   "nav_menu": {},
   "number_sections": true,
   "sideBar": true,
   "skip_h1_title": false,
   "title_cell": "Table of Contents",
   "title_sidebar": "Contents",
   "toc_cell": false,
   "toc_position": {},
   "toc_section_display": true,
   "toc_window_display": false
  }
 },
 "nbformat": 4,
 "nbformat_minor": 2
}
